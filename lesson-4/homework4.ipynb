{
 "cells": [
  {
   "cell_type": "code",
   "execution_count": 17,
   "id": "1c517344",
   "metadata": {},
   "outputs": [
    {
     "name": "stdout",
     "output_type": "stream",
     "text": [
      "Kabisa yili\n"
     ]
    }
   ],
   "source": [
    "Year = int(input('Kabisa yilini kiriting'))\n",
    "\n",
    "if Year == 2020:\n",
    "    print(\"Kabisa yili\")\n",
    "elif Year ==2021:\n",
    "    print(\"Kabisa yili emas\")\n",
    "elif Year ==2022:\n",
    "    print(\"Kabisa yili emas\")\n",
    "elif Year ==2023:\n",
    "    print(\"Kabisa yili emas\")\n",
    "elif Year ==2024:\n",
    "    print(\"Kabisa yili\")"
   ]
  }
 ],
 "metadata": {
  "kernelspec": {
   "display_name": "Python 3",
   "language": "python",
   "name": "python3"
  },
  "language_info": {
   "codemirror_mode": {
    "name": "ipython",
    "version": 3
   },
   "file_extension": ".py",
   "mimetype": "text/x-python",
   "name": "python",
   "nbconvert_exporter": "python",
   "pygments_lexer": "ipython3",
   "version": "3.12.10"
  }
 },
 "nbformat": 4,
 "nbformat_minor": 5
}
