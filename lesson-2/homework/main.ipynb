{
 "cells": [
  {
   "cell_type": "code",
   "execution_count": 4,
   "id": "8f9e9bae",
   "metadata": {},
   "outputs": [
    {
     "data": {
      "text/plain": [
       "'Matiz'"
      ]
     },
     "execution_count": 4,
     "metadata": {},
     "output_type": "execute_result"
    }
   ],
   "source": [
    "# 1  masala\n",
    "txt = 'MsaatmiazD'\n",
    "txt[::2]"
   ]
  },
  {
   "cell_type": "code",
   "execution_count": 27,
   "id": "7f319d0a",
   "metadata": {},
   "outputs": [
    {
     "name": "stdout",
     "output_type": "stream",
     "text": [
      "MazDa\n"
     ]
    }
   ],
   "source": [
    "txt= 'MsaatmiazD'\n",
    "MsaatmiazD= txt[0]+txt[2]+txt[8]+txt[9]+txt[2]\n",
    "print(MsaatmiazD)\n",
    "\n"
   ]
  },
  {
   "cell_type": "code",
   "execution_count": 33,
   "id": "5b9a40d9",
   "metadata": {},
   "outputs": [
    {
     "data": {
      "text/plain": [
       "'London'"
      ]
     },
     "execution_count": 33,
     "metadata": {},
     "output_type": "execute_result"
    }
   ],
   "source": [
    "# 2 masala\n",
    "txt = \"I'm John. I am from London\"\n",
    "txt[20:26]"
   ]
  },
  {
   "cell_type": "code",
   "execution_count": null,
   "id": "0e2ed236",
   "metadata": {},
   "outputs": [
    {
     "name": "stdout",
     "output_type": "stream",
     "text": [
      "nodnoL\n"
     ]
    }
   ],
   "source": [
    "# 3 masala\n",
    "txt = (\"London\")\n",
    "print(txt[::-1])"
   ]
  },
  {
   "cell_type": "code",
   "execution_count": null,
   "id": "76e18906",
   "metadata": {},
   "outputs": [
    {
     "name": "stdout",
     "output_type": "stream",
     "text": [
      "palindrom\n"
     ]
    }
   ],
   "source": [
    "# 4 masala\n",
    "word = input (\"Palindrom teskarimi\")\n",
    "if word == word [::-1]:\n",
    "    print(\"palindrom\")\n",
    "else:\n",
    "    print(\"palindrom emas\")    "
   ]
  },
  {
   "cell_type": "code",
   "execution_count": null,
   "id": "a6ad8b2e",
   "metadata": {},
   "outputs": [
    {
     "name": "stdout",
     "output_type": "stream",
     "text": [
      "Uzum\n"
     ]
    }
   ],
   "source": [
    "# 5 masala\n",
    "mevalar =[\"Olma\",\"Banan\",\"Uzum\",\"Gilos\",\"Apelsin\"]\n",
    "print(mevalar[2])"
   ]
  },
  {
   "cell_type": "code",
   "execution_count": null,
   "id": "3f15abf4",
   "metadata": {},
   "outputs": [
    {
     "name": "stdout",
     "output_type": "stream",
     "text": [
      "[1, 2, 3, 4, 5, 6]\n"
     ]
    }
   ],
   "source": [
    "# 6 masala\n",
    "list1 = [1,2,3]\n",
    "list2 =[4,5,6]\n",
    "qoshish = list1 + list2\n",
    "print(qoshish)"
   ]
  },
  {
   "cell_type": "code",
   "execution_count": null,
   "id": "20a1027f",
   "metadata": {},
   "outputs": [
    {
     "name": "stdout",
     "output_type": "stream",
     "text": [
      "[[10], [30], [50]]\n"
     ]
    }
   ],
   "source": [
    "# 7 masala\n",
    "number =[10,20,30,40,50]\n",
    "num1 = [10]\n",
    "num2 = [30]\n",
    "end = [50]\n",
    "new_list =[num1,num2,end]\n",
    "print(new_list)"
   ]
  },
  {
   "cell_type": "code",
   "execution_count": null,
   "id": "88aa468e",
   "metadata": {},
   "outputs": [
    {
     "name": "stdout",
     "output_type": "stream",
     "text": [
      "Bor\n"
     ]
    }
   ],
   "source": [
    "# 8 masala\n",
    "cities =[\"London\",\"Paris\", \"Rome\"]\n",
    "if \"Paris\" in cities:\n",
    "    print(\"Bor\")\n",
    "else:\n",
    "    print(\"yo'q\")    "
   ]
  },
  {
   "cell_type": "code",
   "execution_count": 51,
   "id": "e44d00dd",
   "metadata": {},
   "outputs": [
    {
     "name": "stdout",
     "output_type": "stream",
     "text": [
      "[1, 2, 3, 1, 2, 3]\n"
     ]
    }
   ],
   "source": [
    "# 9 masala\n",
    "number = [1,2,3]\n",
    "new = number * 2\n",
    "print(new)"
   ]
  },
  {
   "cell_type": "code",
   "execution_count": 52,
   "id": "6205167d",
   "metadata": {},
   "outputs": [
    {
     "name": "stdout",
     "output_type": "stream",
     "text": [
      "[40, 20, 30, 10]\n"
     ]
    }
   ],
   "source": [
    "# 10 masala\n",
    "number = [10,20,30,40]\n",
    "number[0], number[-1] = number[-1], number[0]\n",
    "print(number)"
   ]
  }
 ],
 "metadata": {
  "kernelspec": {
   "display_name": "Python 3",
   "language": "python",
   "name": "python3"
  },
  "language_info": {
   "codemirror_mode": {
    "name": "ipython",
    "version": 3
   },
   "file_extension": ".py",
   "mimetype": "text/x-python",
   "name": "python",
   "nbconvert_exporter": "python",
   "pygments_lexer": "ipython3",
   "version": "3.12.10"
  }
 },
 "nbformat": 4,
 "nbformat_minor": 5
}
