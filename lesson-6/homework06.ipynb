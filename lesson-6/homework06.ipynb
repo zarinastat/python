{
 "cells": [
  {
   "cell_type": "code",
   "execution_count": 8,
   "id": "dea5ae9e",
   "metadata": {},
   "outputs": [
    {
     "name": "stdout",
     "output_type": "stream",
     "text": [
      "h_e_l_l_o\n",
      "a_s_s_a_l_o_m\n",
      "a_b_c_a_b_c_a_b_c_d_e_a_b_c_d_e_f_a_b_c_d_e_f_g\n"
     ]
    }
   ],
   "source": [
    "def modify_string(txt):\n",
    "    vowels = \"aeiou\"\n",
    "    result = \"\"\n",
    "    count =0\n",
    "    \n",
    "    for i in range(len(txt)):\n",
    "        result += txt[i]\n",
    "        count +=1\n",
    "\n",
    "        if count == 3:\n",
    "            if txt[i] in vowels:\n",
    "                pass\n",
    "            elif (i+1 < len(txt) and txt[+1] == \"_\"):\n",
    "                pass\n",
    "        else:\n",
    "            if i != len(txt)-1:\n",
    "                result += \"_\"\n",
    "        count = 0\n",
    "    return result \n",
    "print(modify_string(\"hello\"))\n",
    "print(modify_string(\"assalom\"))\n",
    "print(modify_string(\"abcabcabcdeabcdefabcdefg\"))                \n"
   ]
  },
  {
   "cell_type": "code",
   "execution_count": 2,
   "id": "df8d9ebf",
   "metadata": {},
   "outputs": [
    {
     "name": "stdout",
     "output_type": "stream",
     "text": [
      "0\n",
      "1\n",
      "4\n",
      "9\n",
      "16\n"
     ]
    }
   ],
   "source": [
    "n = int(input())\n",
    "\n",
    "for i in range(n):\n",
    "    print(i**2)"
   ]
  },
  {
   "cell_type": "code",
   "execution_count": 3,
   "id": "f7bbce07",
   "metadata": {},
   "outputs": [
    {
     "name": "stdout",
     "output_type": "stream",
     "text": [
      "1\n",
      "2\n",
      "3\n",
      "4\n",
      "5\n",
      "6\n",
      "7\n",
      "8\n",
      "9\n",
      "10\n"
     ]
    }
   ],
   "source": [
    "i = 1\n",
    "while i <=10:\n",
    "    print(i)\n",
    "    i += 1"
   ]
  },
  {
   "cell_type": "code",
   "execution_count": 10,
   "id": "ae15fd0c",
   "metadata": {},
   "outputs": [
    {
     "name": "stdout",
     "output_type": "stream",
     "text": [
      "1\n",
      "12\n",
      "123\n",
      "1234\n",
      "12345\n"
     ]
    }
   ],
   "source": [
    "rows = 5\n",
    "for i in range(1, rows + 1):\n",
    "    for j in range(1, i + 1):\n",
    "        print(j, end=\"\")\n",
    "    print()"
   ]
  },
  {
   "cell_type": "code",
   "execution_count": 11,
   "id": "716b60fe",
   "metadata": {},
   "outputs": [
    {
     "name": "stdout",
     "output_type": "stream",
     "text": [
      "Sum is: 55\n"
     ]
    }
   ],
   "source": [
    "n = int(input(\"Enter number:\"))\n",
    "\n",
    "total = 0\n",
    "i = 1\n",
    "while i <= n:\n",
    "    total += i\n",
    "    i += 1\n",
    "\n",
    "print(\"Sum is:\", total)    "
   ]
  },
  {
   "cell_type": "code",
   "execution_count": 12,
   "id": "2c23402d",
   "metadata": {},
   "outputs": [
    {
     "name": "stdout",
     "output_type": "stream",
     "text": [
      "2\n",
      "4\n",
      "6\n",
      "8\n",
      "10\n",
      "12\n",
      "14\n",
      "16\n",
      "18\n",
      "20\n"
     ]
    }
   ],
   "source": [
    "num = int(input(\"Son kiriting:\"))\n",
    "for i in range(1,11):\n",
    "    print(num * i)"
   ]
  },
  {
   "cell_type": "code",
   "execution_count": 13,
   "id": "f6e502cb",
   "metadata": {},
   "outputs": [
    {
     "name": "stdout",
     "output_type": "stream",
     "text": [
      "75\n",
      "150\n",
      "145\n",
      "50\n"
     ]
    }
   ],
   "source": [
    "numbers = [12,75,150,180,145,525,50]\n",
    "\n",
    "for num in numbers:\n",
    "    if num > 150:\n",
    "        continue\n",
    "    if num % 5 ==0:\n",
    "        print(num)"
   ]
  },
  {
   "cell_type": "code",
   "execution_count": 15,
   "id": "1a3a49d5",
   "metadata": {},
   "outputs": [
    {
     "name": "stdout",
     "output_type": "stream",
     "text": [
      "raqamlar soni: 5\n"
     ]
    }
   ],
   "source": [
    "num = int(input(\"son kiriting:\"))\n",
    "\n",
    "count = len(str(num))\n",
    "print(\"raqamlar soni:\", count)"
   ]
  },
  {
   "cell_type": "code",
   "execution_count": 16,
   "id": "0fe2d161",
   "metadata": {},
   "outputs": [
    {
     "name": "stdout",
     "output_type": "stream",
     "text": [
      "54321\n",
      "4321\n",
      "321\n",
      "21\n",
      "1\n"
     ]
    }
   ],
   "source": [
    "n = 5\n",
    "for i in range(n,0, -1):\n",
    "    for j in range(i, 0, -1):\n",
    "        print(j, end=\"\")\n",
    "    print()    "
   ]
  },
  {
   "cell_type": "code",
   "execution_count": 17,
   "id": "2c657279",
   "metadata": {},
   "outputs": [
    {
     "name": "stdout",
     "output_type": "stream",
     "text": [
      "50\n",
      "40\n",
      "30\n",
      "20\n",
      "10\n"
     ]
    }
   ],
   "source": [
    "list1 = [10,20,30,40,50]\n",
    "\n",
    "for i in range(len(list1)-1, -1, -1):\n",
    "    print(list1[i])"
   ]
  },
  {
   "cell_type": "code",
   "execution_count": 19,
   "id": "471a87d2",
   "metadata": {},
   "outputs": [
    {
     "name": "stdout",
     "output_type": "stream",
     "text": [
      "-10\n",
      "-9\n",
      "-8\n",
      "-7\n",
      "-6\n",
      "-5\n",
      "-4\n",
      "-3\n",
      "-2\n",
      "-1\n"
     ]
    }
   ],
   "source": [
    "for i in range(-10,0):\n",
    "    print(i)"
   ]
  },
  {
   "cell_type": "code",
   "execution_count": 20,
   "id": "01e1f44c",
   "metadata": {},
   "outputs": [
    {
     "name": "stdout",
     "output_type": "stream",
     "text": [
      "0\n",
      "1\n",
      "2\n",
      "3\n",
      "4\n",
      "Done!\n"
     ]
    }
   ],
   "source": [
    "for i in range(5):\n",
    "    print(i)\n",
    "\n",
    "print(\"Done!\")"
   ]
  },
  {
   "cell_type": "code",
   "execution_count": 23,
   "id": "c5b1a4c1",
   "metadata": {},
   "outputs": [
    {
     "name": "stdout",
     "output_type": "stream",
     "text": [
      "Prime numbers between 25 and 50:\n",
      "29\n",
      "31\n",
      "37\n",
      "41\n",
      "43\n",
      "47\n"
     ]
    }
   ],
   "source": [
    "start = 25\n",
    "end = 50\n",
    " \n",
    "print(f\"Prime numbers between {start} and {end}:\")\n",
    "\n",
    "for num in range(start, end +1 ):\n",
    "    if num > 1:\n",
    "        is_prime = True\n",
    "        for i in range(2, int(num**0.5)+1):\n",
    "            if num % i == 0:\n",
    "                is_prime = False\n",
    "                break\n",
    "        if is_prime:\n",
    "            print(num)    \n"
   ]
  },
  {
   "cell_type": "code",
   "execution_count": 25,
   "id": "70d86d78",
   "metadata": {},
   "outputs": [
    {
     "name": "stdout",
     "output_type": "stream",
     "text": [
      "Fibonacci sequence:\n",
      "0 1 1 2 3 5 8 13 21 34 "
     ]
    }
   ],
   "source": [
    "n_terms = 10\n",
    "a, b = 0, 1\n",
    "\n",
    "print(\"Fibonacci sequence:\")\n",
    "\n",
    "for _ in range(n_terms):\n",
    "    print(a, end=\" \")\n",
    "    a,b = b, a + b"
   ]
  },
  {
   "cell_type": "code",
   "execution_count": 26,
   "id": "d95a0964",
   "metadata": {},
   "outputs": [
    {
     "name": "stdout",
     "output_type": "stream",
     "text": [
      "5! = 120\n"
     ]
    }
   ],
   "source": [
    "n = int(input(\"Son kiriting:\"))\n",
    "factorial = 1\n",
    "i = 1\n",
    "\n",
    "while i <=n:\n",
    "    factorial *=i\n",
    "    i += 1\n",
    "\n",
    "\n",
    "print(f\"{n}! =\", factorial)"
   ]
  },
  {
   "cell_type": "code",
   "execution_count": 27,
   "id": "93e6f597",
   "metadata": {},
   "outputs": [
    {
     "name": "stdout",
     "output_type": "stream",
     "text": [
      "[1, 1, 3, 4]\n",
      "[1, 2, 3, 4, 5, 6]\n",
      "[2, 2, 5]\n"
     ]
    }
   ],
   "source": [
    "def uncommon_elements(list1, list2):\n",
    "    result = []\n",
    "\n",
    "    for item in list1:\n",
    "        if item not in list2:\n",
    "            result.append(item)\n",
    "\n",
    "    for item in list2:\n",
    "        if item not in list1:\n",
    "            result.append(item)\n",
    "\n",
    "\n",
    "    return result\n",
    "\n",
    "\n",
    "print(uncommon_elements([1, 1,2], [2, 3, 4]))\n",
    "print(uncommon_elements([1,2,3], [4,5,6]))\n",
    "print(uncommon_elements([1, 1, 2, 3, 4, 2], [1, 3, 4, 5]))"
   ]
  }
 ],
 "metadata": {
  "kernelspec": {
   "display_name": "Python 3",
   "language": "python",
   "name": "python3"
  },
  "language_info": {
   "codemirror_mode": {
    "name": "ipython",
    "version": 3
   },
   "file_extension": ".py",
   "mimetype": "text/x-python",
   "name": "python",
   "nbconvert_exporter": "python",
   "pygments_lexer": "ipython3",
   "version": "3.12.10"
  }
 },
 "nbformat": 4,
 "nbformat_minor": 5
}
