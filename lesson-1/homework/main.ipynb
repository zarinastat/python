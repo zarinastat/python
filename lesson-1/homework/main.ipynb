{
 "cells": [
  {
   "cell_type": "code",
   "execution_count": null,
   "id": "c24c47df",
   "metadata": {},
   "outputs": [
    {
     "name": "stdout",
     "output_type": "stream",
     "text": [
      "5\n",
      "20\n",
      "25\n"
     ]
    }
   ],
   "source": [
    "# 1 masala\n",
    "a = 5\n",
    "perimetr = 4 * a\n",
    "yuzasi = a *a\n",
    "print(a)\n",
    "print(perimetr)\n",
    "print(yuzasi)"
   ]
  },
  {
   "cell_type": "code",
   "execution_count": 10,
   "id": "dd3b2eac",
   "metadata": {},
   "outputs": [
    {
     "name": "stdout",
     "output_type": "stream",
     "text": [
      "8\n",
      "25.12\n"
     ]
    }
   ],
   "source": [
    "# 2 masala\n",
    "d = 8\n",
    "uzunligi = 3.14 * d\n",
    "print (d)\n",
    "print (uzunligi)\n"
   ]
  },
  {
   "cell_type": "code",
   "execution_count": 11,
   "id": "8362c7bb",
   "metadata": {},
   "outputs": [
    {
     "name": "stdout",
     "output_type": "stream",
     "text": [
      "6\n",
      "10\n",
      "8.0\n"
     ]
    }
   ],
   "source": [
    "# 3 masala\n",
    "a = 6\n",
    "b = 10\n",
    "ortacha = (a+b)/2\n",
    "print(a)\n",
    "print(b)\n",
    "print(ortacha)"
   ]
  },
  {
   "cell_type": "code",
   "execution_count": 12,
   "id": "8f57247b",
   "metadata": {},
   "outputs": [
    {
     "name": "stdout",
     "output_type": "stream",
     "text": [
      "4\n",
      "7\n",
      "11\n",
      "28\n",
      "16\n",
      "49\n"
     ]
    }
   ],
   "source": [
    "# 4 masala\n",
    "a=4\n",
    "b=7\n",
    "\n",
    "yigindi= a+b\n",
    "kopaytma= a*b\n",
    "a_kvadrat =a*a\n",
    "b_kvadrat = b*b\n",
    "print(a)\n",
    "print(b)\n",
    "print(yigindi)\n",
    "print(kopaytma)\n",
    "print(a_kvadrat)\n",
    "print(b_kvadrat)"
   ]
  }
 ],
 "metadata": {
  "kernelspec": {
   "display_name": "Python 3",
   "language": "python",
   "name": "python3"
  },
  "language_info": {
   "codemirror_mode": {
    "name": "ipython",
    "version": 3
   },
   "file_extension": ".py",
   "mimetype": "text/x-python",
   "name": "python",
   "nbconvert_exporter": "python",
   "pygments_lexer": "ipython3",
   "version": "3.12.10"
  }
 },
 "nbformat": 4,
 "nbformat_minor": 5
}
